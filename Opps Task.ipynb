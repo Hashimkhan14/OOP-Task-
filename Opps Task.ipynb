{
 "cells": [
  {
   "cell_type": "markdown",
   "id": "19d7eecd-e2e0-42db-ab4d-4fbc73d4c4f0",
   "metadata": {},
   "source": [
    "#### Q1, Create a vehicle class with an init method having instance variables as name_of_vehicle, max_speed and average_of_vehicle.\n",
    "\n",
    "#### Sol. An example of 'vehicle' class in python with an '__init__' method that initializes instance variable for the name of the vehical, maximum speed, and average speed is given below:"
   ]
  },
  {
   "cell_type": "code",
   "execution_count": 1,
   "id": "e9948208-0ffd-4003-8c57-e2030cf239f1",
   "metadata": {},
   "outputs": [],
   "source": [
    "class vehicle:\n",
    "    def __init__(self, name_of_vehicle, max_speed, average_of_vehicle):\n",
    "        \n",
    "        self.name_of_vehicle= name_of_vehicle\n",
    "        self.max_speed= max_speed\n",
    "        self.average_of_vehicle= average_of_vehicle      "
   ]
  },
  {
   "cell_type": "code",
   "execution_count": 2,
   "id": "91053499-dad2-4baa-b71e-06848d0fd4d9",
   "metadata": {},
   "outputs": [],
   "source": [
    "c= vehicle('Beleno', 220, 20)"
   ]
  },
  {
   "cell_type": "code",
   "execution_count": 3,
   "id": "51640f92-d053-45af-9e59-9efdb14c1b09",
   "metadata": {},
   "outputs": [
    {
     "data": {
      "text/plain": [
       "'Beleno'"
      ]
     },
     "execution_count": 3,
     "metadata": {},
     "output_type": "execute_result"
    }
   ],
   "source": [
    "c.name_of_vehicle"
   ]
  },
  {
   "cell_type": "code",
   "execution_count": 4,
   "id": "5e25c12e-d0bb-4a7e-9e06-b02f53da69a3",
   "metadata": {},
   "outputs": [
    {
     "data": {
      "text/plain": [
       "220"
      ]
     },
     "execution_count": 4,
     "metadata": {},
     "output_type": "execute_result"
    }
   ],
   "source": [
    "c.max_speed"
   ]
  },
  {
   "cell_type": "code",
   "execution_count": 5,
   "id": "cba88d37-445c-4efc-8b9b-b761b785f72d",
   "metadata": {},
   "outputs": [
    {
     "data": {
      "text/plain": [
       "20"
      ]
     },
     "execution_count": 5,
     "metadata": {},
     "output_type": "execute_result"
    }
   ],
   "source": [
    "c.average_of_vehicle"
   ]
  },
  {
   "cell_type": "markdown",
   "id": "bae400d0-6540-42cc-95d9-209e62218227",
   "metadata": {},
   "source": [
    "#### Q2. Create a child class car from the vehicle class created in Que 1, which will inherit the vehicle class. Create a method named seating_capacity which takes capacity as an argument and returns the name of the vehicle and its seating capacity.\n",
    "\n",
    "#### Sol. An example of a child class 'car' that inherits the 'vehicle' class and includes a method 'seating_capacity' is given below:"
   ]
  },
  {
   "cell_type": "code",
   "execution_count": 1,
   "id": "c0331bb9-f46c-479f-ae80-ec8cc7714c9d",
   "metadata": {},
   "outputs": [],
   "source": [
    "class vehicle:\n",
    "    def __init__(self, name_of_vehicle, max_speed, average_of_vehicle):\n",
    "        \n",
    "        self.name_of_vehicle= name_of_vehicle\n",
    "        self.max_speed= max_speed\n",
    "        self.average_of_vehicle= average_of_vehicle      "
   ]
  },
  {
   "cell_type": "code",
   "execution_count": 2,
   "id": "aa099fb3-1e1d-45c6-9a4a-9cfaa553cdce",
   "metadata": {},
   "outputs": [],
   "source": [
    "class car(vehicle):\n",
    "    def seating_capacity(self, capacity):\n",
    "        return f'the {self. name_of_vehicle} has a seating capacity of {capacity} people'"
   ]
  },
  {
   "cell_type": "code",
   "execution_count": 3,
   "id": "581a3471-ed4c-42d6-abd3-2197edc1023f",
   "metadata": {},
   "outputs": [],
   "source": [
    "c=car('baleno', 220, 20)"
   ]
  },
  {
   "cell_type": "code",
   "execution_count": 4,
   "id": "def5e3bb-dca6-41be-aeb2-e506ae7a2819",
   "metadata": {},
   "outputs": [
    {
     "data": {
      "text/plain": [
       "'the baleno has a seating capacity of 5 people'"
      ]
     },
     "execution_count": 4,
     "metadata": {},
     "output_type": "execute_result"
    }
   ],
   "source": [
    "c.seating_capacity(5)"
   ]
  },
  {
   "cell_type": "markdown",
   "id": "276bfca6-5f56-4b6b-8d33-8d85cf65c437",
   "metadata": {},
   "source": [
    "#### Q3. What is multiple inheritance? Write a python code to demonstrate multiple inheritance.\n",
    "\n",
    "#### Sol. Multiple inheritance is a feature in object oriented programming languages that allows a class to inherit attributes and methods from more than one parent class. It enables a child class to inherit characteristics from multiple parent classes, thereby incorporating features from multiple sources into a single class.\n",
    "\n",
    "#### An example in python that demonstrates multiple inheritance is given below:"
   ]
  },
  {
   "cell_type": "code",
   "execution_count": 5,
   "id": "f543333a-8fd4-4c89-8257-d38620284f61",
   "metadata": {},
   "outputs": [],
   "source": [
    "class human:\n",
    "    def __init__(self, name):\n",
    "        self.name= name\n",
    "    def work(self):\n",
    "        print(f'{self. name} is working')    "
   ]
  },
  {
   "cell_type": "code",
   "execution_count": 6,
   "id": "76b8bc99-f5a6-4a5d-af8d-a156e2f287e5",
   "metadata": {},
   "outputs": [],
   "source": [
    "class food:\n",
    "    def eat(self):\n",
    "        print(f'{self. name} is eating ')"
   ]
  },
  {
   "cell_type": "code",
   "execution_count": 7,
   "id": "404959ad-35ce-4374-80e5-1292c4aadded",
   "metadata": {},
   "outputs": [],
   "source": [
    "h=human('hashim')"
   ]
  },
  {
   "cell_type": "code",
   "execution_count": 8,
   "id": "15d25188-4d2b-45ac-882f-bd26f8671d62",
   "metadata": {},
   "outputs": [],
   "source": [
    "class boy(human, food):\n",
    "    def __init__(self, name):\n",
    "        super().__init__(name) "
   ]
  },
  {
   "cell_type": "code",
   "execution_count": 9,
   "id": "d3481e69-5445-46b1-83d8-668635fdfede",
   "metadata": {},
   "outputs": [],
   "source": [
    "b=boy('khan')"
   ]
  },
  {
   "cell_type": "code",
   "execution_count": 10,
   "id": "b7c7780b-7f95-4871-bba8-c2b1142f5a34",
   "metadata": {},
   "outputs": [
    {
     "name": "stdout",
     "output_type": "stream",
     "text": [
      "khan is eating \n"
     ]
    }
   ],
   "source": [
    "b.eat()"
   ]
  },
  {
   "cell_type": "code",
   "execution_count": 11,
   "id": "6f70a2f9-d08c-4016-9f0e-39332218d2f4",
   "metadata": {},
   "outputs": [
    {
     "name": "stdout",
     "output_type": "stream",
     "text": [
      "khan is working\n"
     ]
    }
   ],
   "source": [
    "b.work()"
   ]
  },
  {
   "cell_type": "markdown",
   "id": "c3fa954e-682b-4b40-b961-44365626af1b",
   "metadata": {},
   "source": [
    "#### Q4. What are getter and setter in python? Create a class and create a getter and a setter method in this class.\n",
    "\n",
    "#### Sol. In python, getter and setter methods are used to control access to the attributes of a class. They provide a way to retrieve (get) and modify (set) the values of private attributes of an object. Getter methods allow retrieving the value of an attribute, while setter methods allow modifying the value of an attribute with some additional checks or operations if needed.\n",
    "\n",
    "#### An example of a class with getter and setter method is give below:"
   ]
  },
  {
   "cell_type": "code",
   "execution_count": 6,
   "id": "b9e7c515-06d0-4e89-87b4-3f89005371ca",
   "metadata": {},
   "outputs": [],
   "source": [
    "class rectangle:\n",
    "    \n",
    "    def __init__(self, width, height):\n",
    "        self._width= width\n",
    "        self._height= height\n",
    "        \n",
    "    @property\n",
    "    def width(self):\n",
    "        return self._width\n",
    "    \n",
    "    @width.setter\n",
    "    def width(self, width):\n",
    "        if width>0:\n",
    "            self._width= width\n",
    "        else:\n",
    "            print('width must be greater than 0')"
   ]
  },
  {
   "cell_type": "code",
   "execution_count": 13,
   "id": "9e9efa46-32e3-4f54-974d-16d5db500311",
   "metadata": {},
   "outputs": [],
   "source": [
    "r= rectangle(12,6)"
   ]
  },
  {
   "cell_type": "code",
   "execution_count": 8,
   "id": "79dba433-2c48-4891-98b8-9994a4453e3a",
   "metadata": {},
   "outputs": [
    {
     "data": {
      "text/plain": [
       "12"
      ]
     },
     "execution_count": 8,
     "metadata": {},
     "output_type": "execute_result"
    }
   ],
   "source": [
    "r.width"
   ]
  },
  {
   "cell_type": "code",
   "execution_count": 9,
   "id": "a526ff75-278d-4656-a832-e3cbe5b79ced",
   "metadata": {},
   "outputs": [],
   "source": [
    "r.width=8"
   ]
  },
  {
   "cell_type": "code",
   "execution_count": 14,
   "id": "cf14c068-4c8c-4e46-88de-624176588b11",
   "metadata": {},
   "outputs": [
    {
     "data": {
      "text/plain": [
       "12"
      ]
     },
     "execution_count": 14,
     "metadata": {},
     "output_type": "execute_result"
    }
   ],
   "source": [
    "r.width"
   ]
  },
  {
   "cell_type": "markdown",
   "id": "d8756cd5-24ac-41ac-b6ba-4f48b2602a4f",
   "metadata": {},
   "source": [
    "#### Q5.What is method overriding in python? Write a python code to demonstrate method overriding.\n",
    "\n",
    "#### Sol. Method overriding in python occurs when a child class defines a method with the same name as a method in its parent class. The child class overrides the implementation of the method inherited from the parent class and provides its own implementation.\n",
    "\n",
    "#### An example code that demonstrates method overriding in python is given below:"
   ]
  },
  {
   "cell_type": "code",
   "execution_count": 1,
   "id": "a3af6e6e-b79f-4d67-a01f-d192f29df9d8",
   "metadata": {},
   "outputs": [],
   "source": [
    "class vehicle:\n",
    "    def accelerate(self):\n",
    "        print('vehicle is accelerating')\n",
    "        \n",
    "class car(vehicle):\n",
    "    def accelerate(self):\n",
    "        print('car is accelerating')"
   ]
  },
  {
   "cell_type": "code",
   "execution_count": 2,
   "id": "6f0b286e-22c2-451b-a5af-811871ef162e",
   "metadata": {},
   "outputs": [],
   "source": [
    "v=vehicle()"
   ]
  },
  {
   "cell_type": "code",
   "execution_count": 3,
   "id": "3ad95439-b564-4bfa-878d-d7f5eb481089",
   "metadata": {},
   "outputs": [
    {
     "name": "stdout",
     "output_type": "stream",
     "text": [
      "vehicle is accelerating\n"
     ]
    }
   ],
   "source": [
    "v.accelerate()"
   ]
  },
  {
   "cell_type": "code",
   "execution_count": 4,
   "id": "db03b11f-5cbe-44c4-b6ef-3bac39f30933",
   "metadata": {},
   "outputs": [],
   "source": [
    "c=car()"
   ]
  },
  {
   "cell_type": "code",
   "execution_count": 5,
   "id": "4dc0646f-4ff9-4ee2-a58f-ab16e94e299f",
   "metadata": {},
   "outputs": [
    {
     "name": "stdout",
     "output_type": "stream",
     "text": [
      "car is accelerating\n"
     ]
    }
   ],
   "source": [
    "c.accelerate()"
   ]
  }
 ],
 "metadata": {
  "kernelspec": {
   "display_name": "Python 3 (ipykernel)",
   "language": "python",
   "name": "python3"
  },
  "language_info": {
   "codemirror_mode": {
    "name": "ipython",
    "version": 3
   },
   "file_extension": ".py",
   "mimetype": "text/x-python",
   "name": "python",
   "nbconvert_exporter": "python",
   "pygments_lexer": "ipython3",
   "version": "3.10.8"
  }
 },
 "nbformat": 4,
 "nbformat_minor": 5
}
